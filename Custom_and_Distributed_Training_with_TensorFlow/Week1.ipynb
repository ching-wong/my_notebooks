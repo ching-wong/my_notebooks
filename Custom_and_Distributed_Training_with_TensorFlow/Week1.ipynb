{
  "nbformat": 4,
  "nbformat_minor": 0,
  "metadata": {
    "colab": {
      "provenance": [],
      "include_colab_link": true
    },
    "kernelspec": {
      "name": "python3",
      "display_name": "Python 3"
    },
    "language_info": {
      "name": "python"
    }
  },
  "cells": [
    {
      "cell_type": "markdown",
      "metadata": {
        "id": "view-in-github",
        "colab_type": "text"
      },
      "source": [
        "<a href=\"https://colab.research.google.com/github/ching-wong/my_notebooks/blob/main/Custom_and_Distributed_Training_with_TensorFlow/Week1.ipynb\" target=\"_parent\"><img src=\"https://colab.research.google.com/assets/colab-badge.svg\" alt=\"Open In Colab\"/></a>"
      ]
    },
    {
      "cell_type": "markdown",
      "source": [
        "# Custom and Distributed Training with TensorFlow - Week 1\n",
        "\n",
        "Introduction to tensor and gradient tape."
      ],
      "metadata": {
        "id": "VqW8A7V0q51z"
      }
    },
    {
      "cell_type": "markdown",
      "source": [
        ">[Custom and Distributed Training with TensorFlow - Week 1](#scrollTo=VqW8A7V0q51z)\n",
        "\n",
        ">>[Tensor - introduction](#scrollTo=GpV1fDf9gXlP)\n",
        "\n",
        ">>[Tensor operations](#scrollTo=K7UHn1MgpjSQ)\n",
        "\n",
        ">>[Two types of code execution](#scrollTo=uxkXr5oysJvv)\n",
        "\n",
        ">>[Gradient Tape](#scrollTo=FpA7rpJLxsEH)\n",
        "\n",
        ">>[Higher order gradients](#scrollTo=ZL81mOGY4zTJ)\n",
        "\n"
      ],
      "metadata": {
        "colab_type": "toc",
        "id": "blo5iFwQe974"
      }
    },
    {
      "cell_type": "markdown",
      "source": [
        "## Tensor - introduction\n",
        "\n",
        "There are two characteristics:\n",
        "\n",
        "- Shape, e.g., shape = (2,)\n",
        "- Data type, e.g., dtype = tf.int32"
      ],
      "metadata": {
        "id": "GpV1fDf9gXlP"
      }
    },
    {
      "cell_type": "code",
      "source": [
        "import tensorflow as tf\n",
        "\n",
        "t1 = tf.Variable([[1,2],[3,4]], dtype = tf.float32) # mutable\n",
        "t2 = tf.constant([123, 456]) # immutable\n",
        "\n",
        "t3 = tf.Variable(1+2j, dtype = tf.complex64) # for complex numbers, use j instead of i\n",
        "\n",
        "t4 = tf.constant([1,2,3,4], shape = (2,2))\n",
        "t5 = tf.constant(1, shape = (3,2))\n",
        "#t6 = tf.Variable([1,2,3,4], shape = (2,2)) this does not work, the shape must be correct"
      ],
      "metadata": {
        "id": "pR1kqtQDjlSR"
      },
      "execution_count": 1,
      "outputs": []
    },
    {
      "cell_type": "code",
      "source": [
        "t1"
      ],
      "metadata": {
        "colab": {
          "base_uri": "https://localhost:8080/"
        },
        "id": "r1Yx7IxDjqSH",
        "outputId": "4e9d28c2-f7aa-47f1-b9dc-db93299297f2"
      },
      "execution_count": 2,
      "outputs": [
        {
          "output_type": "execute_result",
          "data": {
            "text/plain": [
              "<tf.Variable 'Variable:0' shape=(2, 2) dtype=float32, numpy=\n",
              "array([[1., 2.],\n",
              "       [3., 4.]], dtype=float32)>"
            ]
          },
          "metadata": {},
          "execution_count": 2
        }
      ]
    },
    {
      "cell_type": "markdown",
      "source": [
        "Here we inspect the variables of a simple model. There are 2 variables of this simple model, namely weight (kernel) and bias.\n",
        "\n",
        "Note: in Python, (1,) is a tuple of one element. Since shape must be a tuple, we must add a trailing comma."
      ],
      "metadata": {
        "id": "zVWLVHOUlZeT"
      }
    },
    {
      "cell_type": "code",
      "source": [
        "from tensorflow.keras.models import Sequential\n",
        "from tensorflow.keras.layers import Input, Dense\n",
        "\n",
        "seq_model = Sequential()\n",
        "seq_model.add(Input(shape=(1,1), name=\"input\"))\n",
        "seq_model.add(Dense(1, activation='relu', name=\"dense\"))\n",
        "\n",
        "seq_model.summary()\n",
        "\n",
        "seq_model.variables"
      ],
      "metadata": {
        "colab": {
          "base_uri": "https://localhost:8080/",
          "height": 195
        },
        "id": "ckf2OxZ-j8nR",
        "outputId": "0c4a0cb4-ce55-4769-9ebc-c12e63aca55e"
      },
      "execution_count": 3,
      "outputs": [
        {
          "output_type": "display_data",
          "data": {
            "text/plain": [
              "\u001b[1mModel: \"sequential\"\u001b[0m\n"
            ],
            "text/html": [
              "<pre style=\"white-space:pre;overflow-x:auto;line-height:normal;font-family:Menlo,'DejaVu Sans Mono',consolas,'Courier New',monospace\"><span style=\"font-weight: bold\">Model: \"sequential\"</span>\n",
              "</pre>\n"
            ]
          },
          "metadata": {}
        },
        {
          "output_type": "display_data",
          "data": {
            "text/plain": [
              "┏━━━━━━━━━━━━━━━━━━━━━━━━━━━━━━━━━┳━━━━━━━━━━━━━━━━━━━━━━━━┳━━━━━━━━━━━━━━━┓\n",
              "┃\u001b[1m \u001b[0m\u001b[1mLayer (type)                   \u001b[0m\u001b[1m \u001b[0m┃\u001b[1m \u001b[0m\u001b[1mOutput Shape          \u001b[0m\u001b[1m \u001b[0m┃\u001b[1m \u001b[0m\u001b[1m      Param #\u001b[0m\u001b[1m \u001b[0m┃\n",
              "┡━━━━━━━━━━━━━━━━━━━━━━━━━━━━━━━━━╇━━━━━━━━━━━━━━━━━━━━━━━━╇━━━━━━━━━━━━━━━┩\n",
              "│ dense (\u001b[38;5;33mDense\u001b[0m)                   │ (\u001b[38;5;45mNone\u001b[0m, \u001b[38;5;34m1\u001b[0m, \u001b[38;5;34m1\u001b[0m)           │             \u001b[38;5;34m2\u001b[0m │\n",
              "└─────────────────────────────────┴────────────────────────┴───────────────┘\n"
            ],
            "text/html": [
              "<pre style=\"white-space:pre;overflow-x:auto;line-height:normal;font-family:Menlo,'DejaVu Sans Mono',consolas,'Courier New',monospace\">┏━━━━━━━━━━━━━━━━━━━━━━━━━━━━━━━━━┳━━━━━━━━━━━━━━━━━━━━━━━━┳━━━━━━━━━━━━━━━┓\n",
              "┃<span style=\"font-weight: bold\"> Layer (type)                    </span>┃<span style=\"font-weight: bold\"> Output Shape           </span>┃<span style=\"font-weight: bold\">       Param # </span>┃\n",
              "┡━━━━━━━━━━━━━━━━━━━━━━━━━━━━━━━━━╇━━━━━━━━━━━━━━━━━━━━━━━━╇━━━━━━━━━━━━━━━┩\n",
              "│ dense (<span style=\"color: #0087ff; text-decoration-color: #0087ff\">Dense</span>)                   │ (<span style=\"color: #00d7ff; text-decoration-color: #00d7ff\">None</span>, <span style=\"color: #00af00; text-decoration-color: #00af00\">1</span>, <span style=\"color: #00af00; text-decoration-color: #00af00\">1</span>)           │             <span style=\"color: #00af00; text-decoration-color: #00af00\">2</span> │\n",
              "└─────────────────────────────────┴────────────────────────┴───────────────┘\n",
              "</pre>\n"
            ]
          },
          "metadata": {}
        },
        {
          "output_type": "display_data",
          "data": {
            "text/plain": [
              "\u001b[1m Total params: \u001b[0m\u001b[38;5;34m2\u001b[0m (8.00 B)\n"
            ],
            "text/html": [
              "<pre style=\"white-space:pre;overflow-x:auto;line-height:normal;font-family:Menlo,'DejaVu Sans Mono',consolas,'Courier New',monospace\"><span style=\"font-weight: bold\"> Total params: </span><span style=\"color: #00af00; text-decoration-color: #00af00\">2</span> (8.00 B)\n",
              "</pre>\n"
            ]
          },
          "metadata": {}
        },
        {
          "output_type": "display_data",
          "data": {
            "text/plain": [
              "\u001b[1m Trainable params: \u001b[0m\u001b[38;5;34m2\u001b[0m (8.00 B)\n"
            ],
            "text/html": [
              "<pre style=\"white-space:pre;overflow-x:auto;line-height:normal;font-family:Menlo,'DejaVu Sans Mono',consolas,'Courier New',monospace\"><span style=\"font-weight: bold\"> Trainable params: </span><span style=\"color: #00af00; text-decoration-color: #00af00\">2</span> (8.00 B)\n",
              "</pre>\n"
            ]
          },
          "metadata": {}
        },
        {
          "output_type": "display_data",
          "data": {
            "text/plain": [
              "\u001b[1m Non-trainable params: \u001b[0m\u001b[38;5;34m0\u001b[0m (0.00 B)\n"
            ],
            "text/html": [
              "<pre style=\"white-space:pre;overflow-x:auto;line-height:normal;font-family:Menlo,'DejaVu Sans Mono',consolas,'Courier New',monospace\"><span style=\"font-weight: bold\"> Non-trainable params: </span><span style=\"color: #00af00; text-decoration-color: #00af00\">0</span> (0.00 B)\n",
              "</pre>\n"
            ]
          },
          "metadata": {}
        },
        {
          "output_type": "execute_result",
          "data": {
            "text/plain": [
              "[<Variable path=sequential/dense/kernel, shape=(1, 1), dtype=float32, value=[[0.07548249]]>,\n",
              " <Variable path=sequential/dense/bias, shape=(1,), dtype=float32, value=[0.]>]"
            ]
          },
          "metadata": {},
          "execution_count": 3
        }
      ]
    },
    {
      "cell_type": "markdown",
      "source": [
        "## Tensor operations\n",
        "\n"
      ],
      "metadata": {
        "id": "K7UHn1MgpjSQ"
      }
    },
    {
      "cell_type": "code",
      "source": [
        "tf.add([1,2,3], [4,5,6]) # element-wise addition"
      ],
      "metadata": {
        "id": "ZCpyIYv7kAWG",
        "colab": {
          "base_uri": "https://localhost:8080/"
        },
        "outputId": "6bdf8bef-1087-43d5-b1cf-41114ef5b539"
      },
      "execution_count": 4,
      "outputs": [
        {
          "output_type": "execute_result",
          "data": {
            "text/plain": [
              "<tf.Tensor: shape=(3,), dtype=int32, numpy=array([5, 7, 9], dtype=int32)>"
            ]
          },
          "metadata": {},
          "execution_count": 4
        }
      ]
    },
    {
      "cell_type": "code",
      "source": [
        "tf.square([7,3])"
      ],
      "metadata": {
        "colab": {
          "base_uri": "https://localhost:8080/"
        },
        "id": "8i7fXnOFpzLp",
        "outputId": "6dce2b41-9296-40f8-d273-f3c268c87cee"
      },
      "execution_count": 5,
      "outputs": [
        {
          "output_type": "execute_result",
          "data": {
            "text/plain": [
              "<tf.Tensor: shape=(2,), dtype=int32, numpy=array([49,  9], dtype=int32)>"
            ]
          },
          "metadata": {},
          "execution_count": 5
        }
      ]
    },
    {
      "cell_type": "code",
      "source": [
        "tf.reduce_sum([[1,2,3], [4,5,6]]) # shape has no dimension, so it is a scalar"
      ],
      "metadata": {
        "colab": {
          "base_uri": "https://localhost:8080/"
        },
        "id": "5VG5adT4p7OJ",
        "outputId": "bf6123a8-fa94-4ff3-b6f2-da42bfa4cb53"
      },
      "execution_count": 6,
      "outputs": [
        {
          "output_type": "execute_result",
          "data": {
            "text/plain": [
              "<tf.Tensor: shape=(), dtype=int32, numpy=21>"
            ]
          },
          "metadata": {},
          "execution_count": 6
        }
      ]
    },
    {
      "cell_type": "code",
      "source": [
        "import numpy as np\n",
        "\n",
        "x = tf.Variable(np.arange(24))\n",
        "x"
      ],
      "metadata": {
        "colab": {
          "base_uri": "https://localhost:8080/"
        },
        "id": "zYh_cgEBqL_2",
        "outputId": "b418c1b2-6dc7-4e98-e8de-5054906a7bd4"
      },
      "execution_count": 7,
      "outputs": [
        {
          "output_type": "execute_result",
          "data": {
            "text/plain": [
              "<tf.Variable 'Variable:0' shape=(24,) dtype=int64, numpy=\n",
              "array([ 0,  1,  2,  3,  4,  5,  6,  7,  8,  9, 10, 11, 12, 13, 14, 15, 16,\n",
              "       17, 18, 19, 20, 21, 22, 23])>"
            ]
          },
          "metadata": {},
          "execution_count": 7
        }
      ]
    },
    {
      "cell_type": "code",
      "source": [
        "x = tf.reshape(x, (4,6))\n",
        "x"
      ],
      "metadata": {
        "colab": {
          "base_uri": "https://localhost:8080/"
        },
        "id": "po7HnFfxq9eo",
        "outputId": "8c6de58b-6b15-41ce-dc08-88ddacf4be5f"
      },
      "execution_count": 8,
      "outputs": [
        {
          "output_type": "execute_result",
          "data": {
            "text/plain": [
              "<tf.Tensor: shape=(4, 6), dtype=int64, numpy=\n",
              "array([[ 0,  1,  2,  3,  4,  5],\n",
              "       [ 6,  7,  8,  9, 10, 11],\n",
              "       [12, 13, 14, 15, 16, 17],\n",
              "       [18, 19, 20, 21, 22, 23]])>"
            ]
          },
          "metadata": {},
          "execution_count": 8
        }
      ]
    },
    {
      "cell_type": "code",
      "source": [
        "x = tf.cast(x, tf.float32)\n",
        "x"
      ],
      "metadata": {
        "colab": {
          "base_uri": "https://localhost:8080/"
        },
        "id": "tED9PatprG1W",
        "outputId": "fbfc4177-79f7-4a6c-e388-e7a960bb36b6"
      },
      "execution_count": 9,
      "outputs": [
        {
          "output_type": "execute_result",
          "data": {
            "text/plain": [
              "<tf.Tensor: shape=(4, 6), dtype=float32, numpy=\n",
              "array([[ 0.,  1.,  2.,  3.,  4.,  5.],\n",
              "       [ 6.,  7.,  8.,  9., 10., 11.],\n",
              "       [12., 13., 14., 15., 16., 17.],\n",
              "       [18., 19., 20., 21., 22., 23.]], dtype=float32)>"
            ]
          },
          "metadata": {},
          "execution_count": 9
        }
      ]
    },
    {
      "cell_type": "markdown",
      "source": [
        "## Two types of code execution\n",
        "\n",
        "* Graph-based (via @tf.function): all of the data and operations are loaded into a graph before evaluating them within a session\n",
        "\n",
        "  * get actual values right away\n",
        "  * broadcasting support (add or minus tensors with different dimensions)\n",
        "  * NumPy compatiability (e.g., can use ** 2 as squaring)\n",
        "  * operator overloading\n",
        "  * slightly slower for large models or production because it lacks some graph optimizations\n",
        "\n",
        "* Eager-based (default since TensorFlow 2.x): all of the code is executed line by line\n",
        "  * faster execution\n",
        "  * used when saving models (like with SavedModel)\n",
        "  * harder to debug (no Python print, no native exceptions unless using tf.print)\n",
        "\n",
        "When to\tuse Eager Execution\tor Graph Execution?\n",
        "* Prototyping / debugging: Eager\n",
        "* Training simple models: Eager (or Graph)\n",
        "* Deploying models: Graph\n",
        "* Performance-critical code: Graph"
      ],
      "metadata": {
        "id": "uxkXr5oysJvv"
      }
    },
    {
      "cell_type": "markdown",
      "source": [
        "## Gradient Tape\n",
        "\n",
        "tf.GradientTape() is used to record operations so TensorFlow can compute gradients later.\n",
        "\n",
        "Here is a simple example of gradient tape, with 2 variables."
      ],
      "metadata": {
        "id": "FpA7rpJLxsEH"
      }
    },
    {
      "cell_type": "code",
      "source": [
        "import random\n",
        "\n",
        "w = tf.Variable(random.random(), trainable=True)\n",
        "b = tf.Variable(random.random(), trainable=True)\n",
        "\n",
        "LEARNING_RATE =0.001\n",
        "\n",
        "def fit_data(real_x, real_y):\n",
        "  with tf.GradientTape(persistent=True) as tape:\n",
        "    pred_y = w * real_y + b\n",
        "    reg_loss = tf.abs(real_y - pred_y)\n",
        "\n",
        "  w_gradient = tape.gradient(reg_loss, w)\n",
        "  b_gradient = tape.gradient(reg_loss, b)\n",
        "\n",
        "  w.assign_sub(w_gradient * LEARNING_RATE)\n",
        "  b.assign_sub(b_gradient * LEARNING_RATE)"
      ],
      "metadata": {
        "id": "EyQIhhuVxwmn"
      },
      "execution_count": 10,
      "outputs": []
    },
    {
      "cell_type": "markdown",
      "source": [
        "Here is an example of gradient descent using gradient tape:"
      ],
      "metadata": {
        "id": "0ojbBrm60_tO"
      }
    },
    {
      "cell_type": "code",
      "source": [
        "w = tf.Variable([[3.0]])\n",
        "\n",
        "with tf.GradientTape() as tape:\n",
        "  loss = w * w\n",
        "  # gradient of loss is 2 * w\n",
        "\n",
        "tape.gradient(loss, w)"
      ],
      "metadata": {
        "colab": {
          "base_uri": "https://localhost:8080/"
        },
        "id": "Kz0gZwo5y89Q",
        "outputId": "753d1daf-1ed0-4d16-9b16-7225d0b0c4ec"
      },
      "execution_count": 11,
      "outputs": [
        {
          "output_type": "execute_result",
          "data": {
            "text/plain": [
              "<tf.Tensor: shape=(1, 1), dtype=float32, numpy=array([[6.]], dtype=float32)>"
            ]
          },
          "metadata": {},
          "execution_count": 11
        }
      ]
    },
    {
      "cell_type": "markdown",
      "source": [
        "If a tensor is not a tf.Variable, one has to explicitly tell the tape to \"watch\" it.\n",
        "\n",
        "In the following example,\n",
        "* z = y² = (sum of x)² = (4)² = 16\n",
        "* dz/dy = 2 * y = 8\n",
        "* dy/dx = 1 for all elements\n",
        "* So dz/dx = dz/dy * dy/dx = 8 * 1 = 8 at every position"
      ],
      "metadata": {
        "id": "y6qEHabw1GuA"
      }
    },
    {
      "cell_type": "code",
      "source": [
        "x = tf.ones((2,2))\n",
        "\n",
        "with tf.GradientTape() as tape:\n",
        "  tape.watch(x)\n",
        "  y = tf.reduce_sum(x)\n",
        "  z = tf.square(y)\n",
        "\n",
        "tape.gradient(z,x) #dz/dx"
      ],
      "metadata": {
        "colab": {
          "base_uri": "https://localhost:8080/"
        },
        "id": "Y0m-thLf0SMR",
        "outputId": "867df28a-4a18-47c7-e384-ad9b0ff9f187"
      },
      "execution_count": 12,
      "outputs": [
        {
          "output_type": "execute_result",
          "data": {
            "text/plain": [
              "<tf.Tensor: shape=(2, 2), dtype=float32, numpy=\n",
              "array([[8., 8.],\n",
              "       [8., 8.]], dtype=float32)>"
            ]
          },
          "metadata": {},
          "execution_count": 12
        }
      ]
    },
    {
      "cell_type": "markdown",
      "source": [
        "With persistent = True, one can reuse the tape to compute multiple gradients from the same recorded operations. (Don't forget to drop it when done.)"
      ],
      "metadata": {
        "id": "dl0V2a7Z4Gt6"
      }
    },
    {
      "cell_type": "code",
      "source": [
        "x = tf.ones((2,2))\n",
        "\n",
        "with tf.GradientTape(persistent = True) as tape:\n",
        "  tape.watch(x)\n",
        "  y = tf.reduce_sum(x)\n",
        "  z = tf.square(y)\n",
        "\n",
        "tape.gradient(z,x) #dz/dx\n"
      ],
      "metadata": {
        "colab": {
          "base_uri": "https://localhost:8080/"
        },
        "id": "NE9Logsf1YmS",
        "outputId": "3f050905-8830-471d-990b-2bd1d8788f60"
      },
      "execution_count": 13,
      "outputs": [
        {
          "output_type": "execute_result",
          "data": {
            "text/plain": [
              "<tf.Tensor: shape=(2, 2), dtype=float32, numpy=\n",
              "array([[8., 8.],\n",
              "       [8., 8.]], dtype=float32)>"
            ]
          },
          "metadata": {},
          "execution_count": 13
        }
      ]
    },
    {
      "cell_type": "code",
      "source": [
        "tape.gradient(y,x) #dy/dx"
      ],
      "metadata": {
        "colab": {
          "base_uri": "https://localhost:8080/"
        },
        "id": "Nb4zqxgb3xRm",
        "outputId": "9a75af6c-9639-4f66-9ea9-0ddb767356e8"
      },
      "execution_count": 14,
      "outputs": [
        {
          "output_type": "execute_result",
          "data": {
            "text/plain": [
              "<tf.Tensor: shape=(2, 2), dtype=float32, numpy=\n",
              "array([[1., 1.],\n",
              "       [1., 1.]], dtype=float32)>"
            ]
          },
          "metadata": {},
          "execution_count": 14
        }
      ]
    },
    {
      "cell_type": "code",
      "source": [
        "tape.gradient(z,y) #dz/dy\n",
        "del tape # since we set persistent = True, drop the reference to the tape when done"
      ],
      "metadata": {
        "id": "sbpZ7qxf321k"
      },
      "execution_count": 15,
      "outputs": []
    },
    {
      "cell_type": "markdown",
      "source": [
        "## Higher order gradients\n",
        "\n",
        "We use nesting structure."
      ],
      "metadata": {
        "id": "ZL81mOGY4zTJ"
      }
    },
    {
      "cell_type": "code",
      "source": [
        "x = tf.Variable(1.0)\n",
        "\n",
        "with tf.GradientTape() as tape2:\n",
        "  with tf.GradientTape() as tape1:\n",
        "    y = x * x * x\n",
        "\n",
        "  dy_dx = tape1.gradient(y,x)\n",
        "\n",
        "d2y_dx2 = tape2.gradient(dy_dx,x)\n",
        "\n",
        "print(\"dy_dx =\", dy_dx.numpy())\n",
        "print(\"d2y_dx2 =\", d2y_dx2.numpy())"
      ],
      "metadata": {
        "colab": {
          "base_uri": "https://localhost:8080/"
        },
        "id": "WIwH7z6137d_",
        "outputId": "76279b52-9f8e-4d65-c813-cecfa6a7c9ab"
      },
      "execution_count": 16,
      "outputs": [
        {
          "output_type": "stream",
          "name": "stdout",
          "text": [
            "dy_dx = 3.0\n",
            "d2y_dx2 = 6.0\n"
          ]
        }
      ]
    }
  ]
}